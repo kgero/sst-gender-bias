{
 "cells": [
  {
   "cell_type": "markdown",
   "id": "9949dcdb",
   "metadata": {},
   "source": [
    "# Prepare SST data for gender annotation\n",
    "\n",
    "* Import SST data from huggingface\n",
    "* Use word lists to automatically annotate (pre-annotate?) sentences for gender\n",
    "* Subsample gendered sentences: 400 masculine, 400 feminine, 400 neutral\n",
    "* Prepare CSVs for human annotation"
   ]
  },
  {
   "cell_type": "markdown",
   "id": "5badcb9d",
   "metadata": {},
   "source": [
    "## Import SST data from huggingface"
   ]
  },
  {
   "cell_type": "code",
   "execution_count": 1,
   "id": "022eb689",
   "metadata": {},
   "outputs": [],
   "source": [
    "import pandas as pd"
   ]
  },
  {
   "cell_type": "code",
   "execution_count": 2,
   "id": "1f0b6c0f",
   "metadata": {},
   "outputs": [
    {
     "data": {
      "application/vnd.jupyter.widget-view+json": {
       "model_id": "846f46d502ab4b818dd0884151663b83",
       "version_major": 2,
       "version_minor": 0
      },
      "text/plain": [
       "Downloading builder script:   0%|          | 0.00/2.59k [00:00<?, ?B/s]"
      ]
     },
     "metadata": {},
     "output_type": "display_data"
    },
    {
     "data": {
      "application/vnd.jupyter.widget-view+json": {
       "model_id": "938ebd31e7e44fec8cf6558c0b3467e4",
       "version_major": 2,
       "version_minor": 0
      },
      "text/plain": [
       "Downloading metadata:   0%|          | 0.00/1.17k [00:00<?, ?B/s]"
      ]
     },
     "metadata": {},
     "output_type": "display_data"
    },
    {
     "name": "stderr",
     "output_type": "stream",
     "text": [
      "No config specified, defaulting to: sst/default\n",
      "Reusing dataset sst (/Users/katygero/.cache/huggingface/datasets/sst/default/1.0.0/b8a7889ef01c5d3ae8c379b84cc4080f8aad3ac2bc538701cbe0ac6416fb76ff)\n"
     ]
    },
    {
     "data": {
      "application/vnd.jupyter.widget-view+json": {
       "model_id": "7ece2dc64d6b4207949652de2450479a",
       "version_major": 2,
       "version_minor": 0
      },
      "text/plain": [
       "  0%|          | 0/3 [00:00<?, ?it/s]"
      ]
     },
     "metadata": {},
     "output_type": "display_data"
    }
   ],
   "source": [
    "from datasets import load_dataset\n",
    "\n",
    "dataset = load_dataset(\"sst\")"
   ]
  },
  {
   "cell_type": "code",
   "execution_count": 3,
   "id": "453d8782",
   "metadata": {},
   "outputs": [
    {
     "data": {
      "text/plain": [
       "{'sentence': \"The Rock is destined to be the 21st Century 's new `` Conan '' and that he 's going to make a splash even greater than Arnold Schwarzenegger , Jean-Claud Van Damme or Steven Segal .\",\n",
       " 'label': 0.6944400072097778,\n",
       " 'tokens': \"The|Rock|is|destined|to|be|the|21st|Century|'s|new|``|Conan|''|and|that|he|'s|going|to|make|a|splash|even|greater|than|Arnold|Schwarzenegger|,|Jean-Claud|Van|Damme|or|Steven|Segal|.\",\n",
       " 'tree': '70|70|68|67|63|62|61|60|58|58|57|56|56|64|65|55|54|53|52|51|49|47|47|46|46|45|40|40|41|39|38|38|43|37|37|69|44|39|42|41|42|43|44|45|50|48|48|49|50|51|52|53|54|55|66|57|59|59|60|61|62|63|64|65|66|67|68|69|71|71|0'}"
      ]
     },
     "execution_count": 3,
     "metadata": {},
     "output_type": "execute_result"
    }
   ],
   "source": [
    "#splits: ['test', 'train', 'validation']\n",
    "dataset['train'][0]"
   ]
  },
  {
   "cell_type": "code",
   "execution_count": 4,
   "id": "5f44b9c0",
   "metadata": {},
   "outputs": [],
   "source": [
    "train = pd.DataFrame(dataset['train'])\n",
    "train['split'] = 'train'\n",
    "\n",
    "val = pd.DataFrame(dataset['validation'])\n",
    "val['split'] = 'validation'\n",
    "\n",
    "test = pd.DataFrame(dataset['test'])\n",
    "test['split'] = 'test'\n",
    "\n",
    "data = pd.concat([train, val, test])"
   ]
  },
  {
   "cell_type": "code",
   "execution_count": 5,
   "id": "bfc658d6",
   "metadata": {},
   "outputs": [
    {
     "data": {
      "text/html": [
       "<div>\n",
       "<style scoped>\n",
       "    .dataframe tbody tr th:only-of-type {\n",
       "        vertical-align: middle;\n",
       "    }\n",
       "\n",
       "    .dataframe tbody tr th {\n",
       "        vertical-align: top;\n",
       "    }\n",
       "\n",
       "    .dataframe thead th {\n",
       "        text-align: right;\n",
       "    }\n",
       "</style>\n",
       "<table border=\"1\" class=\"dataframe\">\n",
       "  <thead>\n",
       "    <tr style=\"text-align: right;\">\n",
       "      <th></th>\n",
       "      <th>sentence</th>\n",
       "      <th>label</th>\n",
       "      <th>tokens</th>\n",
       "      <th>tree</th>\n",
       "      <th>split</th>\n",
       "    </tr>\n",
       "  </thead>\n",
       "  <tbody>\n",
       "    <tr>\n",
       "      <th>0</th>\n",
       "      <td>The Rock is destined to be the 21st Century 's...</td>\n",
       "      <td>0.694440</td>\n",
       "      <td>The|Rock|is|destined|to|be|the|21st|Century|'s...</td>\n",
       "      <td>70|70|68|67|63|62|61|60|58|58|57|56|56|64|65|5...</td>\n",
       "      <td>train</td>\n",
       "    </tr>\n",
       "    <tr>\n",
       "      <th>1</th>\n",
       "      <td>The gorgeously elaborate continuation of `` Th...</td>\n",
       "      <td>0.833330</td>\n",
       "      <td>The|gorgeously|elaborate|continuation|of|``|Th...</td>\n",
       "      <td>71|70|69|69|67|67|66|64|63|62|62|61|61|58|57|5...</td>\n",
       "      <td>train</td>\n",
       "    </tr>\n",
       "    <tr>\n",
       "      <th>2</th>\n",
       "      <td>Singer\\/composer Bryan Adams contributes a sle...</td>\n",
       "      <td>0.625000</td>\n",
       "      <td>Singer\\/composer|Bryan|Adams|contributes|a|sle...</td>\n",
       "      <td>72|71|71|70|68|68|67|67|66|63|62|62|60|60|58|5...</td>\n",
       "      <td>train</td>\n",
       "    </tr>\n",
       "    <tr>\n",
       "      <th>3</th>\n",
       "      <td>You 'd think by now America would have had eno...</td>\n",
       "      <td>0.500000</td>\n",
       "      <td>You|'d|think|by|now|America|would|have|had|eno...</td>\n",
       "      <td>36|35|34|33|33|32|30|29|27|26|25|24|23|23|22|2...</td>\n",
       "      <td>train</td>\n",
       "    </tr>\n",
       "    <tr>\n",
       "      <th>4</th>\n",
       "      <td>Yet the act is still charming here .</td>\n",
       "      <td>0.722220</td>\n",
       "      <td>Yet|the|act|is|still|charming|here|.</td>\n",
       "      <td>15|13|13|10|9|9|11|12|10|11|12|14|14|15|0</td>\n",
       "      <td>train</td>\n",
       "    </tr>\n",
       "    <tr>\n",
       "      <th>...</th>\n",
       "      <td>...</td>\n",
       "      <td>...</td>\n",
       "      <td>...</td>\n",
       "      <td>...</td>\n",
       "      <td>...</td>\n",
       "    </tr>\n",
       "    <tr>\n",
       "      <th>2205</th>\n",
       "      <td>An imaginative comedy\\/thriller .</td>\n",
       "      <td>0.777780</td>\n",
       "      <td>An|imaginative|comedy\\/thriller|.</td>\n",
       "      <td>7|6|5|5|6|7|0</td>\n",
       "      <td>test</td>\n",
       "    </tr>\n",
       "    <tr>\n",
       "      <th>2206</th>\n",
       "      <td>( A ) rare , beautiful film .</td>\n",
       "      <td>0.916670</td>\n",
       "      <td>(|A|)|rare|,|beautiful|film|.</td>\n",
       "      <td>13|12|12|11|10|9|9|15|10|11|14|13|14|15|0</td>\n",
       "      <td>test</td>\n",
       "    </tr>\n",
       "    <tr>\n",
       "      <th>2207</th>\n",
       "      <td>( An ) hilarious romantic comedy .</td>\n",
       "      <td>0.888890</td>\n",
       "      <td>(|An|)|hilarious|romantic|comedy|.</td>\n",
       "      <td>12|11|11|9|8|8|10|9|10|13|12|13|0</td>\n",
       "      <td>test</td>\n",
       "    </tr>\n",
       "    <tr>\n",
       "      <th>2208</th>\n",
       "      <td>Never ( sinks ) into exploitation .</td>\n",
       "      <td>0.625000</td>\n",
       "      <td>Never|(|sinks|)|into|exploitation|.</td>\n",
       "      <td>11|10|9|9|8|8|13|12|10|11|12|13|0</td>\n",
       "      <td>test</td>\n",
       "    </tr>\n",
       "    <tr>\n",
       "      <th>2209</th>\n",
       "      <td>( U ) nrelentingly stupid .</td>\n",
       "      <td>0.069444</td>\n",
       "      <td>(|U|)|nrelentingly|stupid|.</td>\n",
       "      <td>10|9|9|7|7|8|8|11|10|11|0</td>\n",
       "      <td>test</td>\n",
       "    </tr>\n",
       "  </tbody>\n",
       "</table>\n",
       "<p>11855 rows × 5 columns</p>\n",
       "</div>"
      ],
      "text/plain": [
       "                                               sentence     label  \\\n",
       "0     The Rock is destined to be the 21st Century 's...  0.694440   \n",
       "1     The gorgeously elaborate continuation of `` Th...  0.833330   \n",
       "2     Singer\\/composer Bryan Adams contributes a sle...  0.625000   \n",
       "3     You 'd think by now America would have had eno...  0.500000   \n",
       "4                  Yet the act is still charming here .  0.722220   \n",
       "...                                                 ...       ...   \n",
       "2205                  An imaginative comedy\\/thriller .  0.777780   \n",
       "2206                      ( A ) rare , beautiful film .  0.916670   \n",
       "2207                 ( An ) hilarious romantic comedy .  0.888890   \n",
       "2208                Never ( sinks ) into exploitation .  0.625000   \n",
       "2209                        ( U ) nrelentingly stupid .  0.069444   \n",
       "\n",
       "                                                 tokens  \\\n",
       "0     The|Rock|is|destined|to|be|the|21st|Century|'s...   \n",
       "1     The|gorgeously|elaborate|continuation|of|``|Th...   \n",
       "2     Singer\\/composer|Bryan|Adams|contributes|a|sle...   \n",
       "3     You|'d|think|by|now|America|would|have|had|eno...   \n",
       "4                  Yet|the|act|is|still|charming|here|.   \n",
       "...                                                 ...   \n",
       "2205                  An|imaginative|comedy\\/thriller|.   \n",
       "2206                      (|A|)|rare|,|beautiful|film|.   \n",
       "2207                 (|An|)|hilarious|romantic|comedy|.   \n",
       "2208                Never|(|sinks|)|into|exploitation|.   \n",
       "2209                        (|U|)|nrelentingly|stupid|.   \n",
       "\n",
       "                                                   tree  split  \n",
       "0     70|70|68|67|63|62|61|60|58|58|57|56|56|64|65|5...  train  \n",
       "1     71|70|69|69|67|67|66|64|63|62|62|61|61|58|57|5...  train  \n",
       "2     72|71|71|70|68|68|67|67|66|63|62|62|60|60|58|5...  train  \n",
       "3     36|35|34|33|33|32|30|29|27|26|25|24|23|23|22|2...  train  \n",
       "4             15|13|13|10|9|9|11|12|10|11|12|14|14|15|0  train  \n",
       "...                                                 ...    ...  \n",
       "2205                                      7|6|5|5|6|7|0   test  \n",
       "2206          13|12|12|11|10|9|9|15|10|11|14|13|14|15|0   test  \n",
       "2207                  12|11|11|9|8|8|10|9|10|13|12|13|0   test  \n",
       "2208                  11|10|9|9|8|8|13|12|10|11|12|13|0   test  \n",
       "2209                          10|9|9|7|7|8|8|11|10|11|0   test  \n",
       "\n",
       "[11855 rows x 5 columns]"
      ]
     },
     "execution_count": 5,
     "metadata": {},
     "output_type": "execute_result"
    }
   ],
   "source": [
    "pd.set_option('display.max_colwidth', 50)\n",
    "data"
   ]
  },
  {
   "cell_type": "markdown",
   "id": "ee3a4945",
   "metadata": {},
   "source": [
    "## Loosely annotate sentences (masc, femme, neutral) using word lists"
   ]
  },
  {
   "cell_type": "code",
   "execution_count": 6,
   "id": "0e85a47a",
   "metadata": {},
   "outputs": [],
   "source": [
    "gender_words = {\n",
    "    'femm': ['she', 'her', 'hers', 'mum', 'mom', 'mother', 'daughter', 'sister', 'niece', 'aunt', 'grandmother',\n",
    "             'lady', 'woman', 'girl', \"ma'am\", 'female', 'wife', 'ms', 'miss', 'mrs', 'ms.', 'mrs.'],\n",
    "    'masc': ['he', 'him', 'his', 'dad', 'father', 'son', 'brother', 'nephew', 'uncle', 'grandfather',\n",
    "             'gentleman', 'man', 'boy', 'sir', 'male', 'husband', 'mr', 'mr.'],\n",
    "    'neut': ['they', 'them', 'theirs', 'parent', 'child', 'sibling',\n",
    "             'person', 'spouse']\n",
    "}\n",
    "\n",
    "def label_gender(row):\n",
    "    tokens = row['tokens'].lower().split('|')\n",
    "    gender = 'none'\n",
    "    for key, words in gender_words.items():\n",
    "        for w in words:\n",
    "            if w in tokens or w+\"s\" in tokens:\n",
    "                if gender == 'none':\n",
    "                    gender = key\n",
    "                else:\n",
    "                    gender = 'mixed'\n",
    "                break\n",
    "    return gender\n",
    "\n",
    "data['gender'] = data.apply(lambda row: label_gender(row), axis=1)"
   ]
  },
  {
   "cell_type": "code",
   "execution_count": 7,
   "id": "46e8b885",
   "metadata": {},
   "outputs": [
    {
     "data": {
      "text/plain": [
       "none     10001\n",
       "masc       931\n",
       "neut       420\n",
       "femm       372\n",
       "mixed      131\n",
       "Name: gender, dtype: int64"
      ]
     },
     "execution_count": 7,
     "metadata": {},
     "output_type": "execute_result"
    }
   ],
   "source": [
    "data['gender'].value_counts()"
   ]
  },
  {
   "cell_type": "code",
   "execution_count": 8,
   "id": "91233c13",
   "metadata": {},
   "outputs": [
    {
     "data": {
      "text/plain": [
       "none     8113\n",
       "masc      743\n",
       "neut      350\n",
       "femm      303\n",
       "mixed     104\n",
       "Name: gender, dtype: int64"
      ]
     },
     "execution_count": 8,
     "metadata": {},
     "output_type": "execute_result"
    }
   ],
   "source": [
    "data_polarized = data[(data['label']>.6)|(data['label']<.4)]\n",
    "data_polarized['gender'].value_counts()"
   ]
  },
  {
   "cell_type": "code",
   "execution_count": 14,
   "id": "8a7a12bb",
   "metadata": {},
   "outputs": [
    {
     "data": {
      "text/html": [
       "<div>\n",
       "<style scoped>\n",
       "    .dataframe tbody tr th:only-of-type {\n",
       "        vertical-align: middle;\n",
       "    }\n",
       "\n",
       "    .dataframe tbody tr th {\n",
       "        vertical-align: top;\n",
       "    }\n",
       "\n",
       "    .dataframe thead th {\n",
       "        text-align: right;\n",
       "    }\n",
       "</style>\n",
       "<table border=\"1\" class=\"dataframe\">\n",
       "  <thead>\n",
       "    <tr style=\"text-align: right;\">\n",
       "      <th></th>\n",
       "      <th>sentence</th>\n",
       "      <th>label</th>\n",
       "      <th>gender</th>\n",
       "    </tr>\n",
       "  </thead>\n",
       "  <tbody>\n",
       "    <tr>\n",
       "      <th>0</th>\n",
       "      <td>The Rock is destined to be the 21st Century 's new `` Conan '' and that he 's going to make a splash even greater than Arnold Schwarzenegger , Jean-Claud Van Damme or Steven Segal .</td>\n",
       "      <td>0.69444</td>\n",
       "      <td>masc</td>\n",
       "    </tr>\n",
       "    <tr>\n",
       "      <th>43</th>\n",
       "      <td>`` Auto Focus '' works as an unusual biopic and document of male swingers in the Playboy era</td>\n",
       "      <td>0.65278</td>\n",
       "      <td>masc</td>\n",
       "    </tr>\n",
       "    <tr>\n",
       "      <th>44</th>\n",
       "      <td>If Mr. Zhang 's subject matter is , to some degree at least , quintessentially American , his approach to storytelling might be called Iranian .</td>\n",
       "      <td>0.52778</td>\n",
       "      <td>masc</td>\n",
       "    </tr>\n",
       "    <tr>\n",
       "      <th>52</th>\n",
       "      <td>( City ) reminds us how realistically nuanced a Robert De Niro performance can be when he is not more lucratively engaged in the shameless self-caricature of ` Analyze This ' ( 1999 ) and ` Analyze That , ' promised ( or threatened ) for later this year .</td>\n",
       "      <td>0.63889</td>\n",
       "      <td>masc</td>\n",
       "    </tr>\n",
       "    <tr>\n",
       "      <th>90</th>\n",
       "      <td>Allen shows he can outgag any of those young whippersnappers making moving pictures today .</td>\n",
       "      <td>0.76389</td>\n",
       "      <td>masc</td>\n",
       "    </tr>\n",
       "    <tr>\n",
       "      <th>98</th>\n",
       "      <td>It celebrates the group 's playful spark of nonconformity , glancing vividly back at what Hibiscus grandly called his ` angels of light . '</td>\n",
       "      <td>0.72222</td>\n",
       "      <td>masc</td>\n",
       "    </tr>\n",
       "    <tr>\n",
       "      <th>136</th>\n",
       "      <td>Writer\\/director Alexander Payne ( Election ) and his co-writer Jim Taylor brilliantly employ their quirky and fearless ability to look American angst in the eye and end up laughing .</td>\n",
       "      <td>0.75000</td>\n",
       "      <td>masc</td>\n",
       "    </tr>\n",
       "    <tr>\n",
       "      <th>141</th>\n",
       "      <td>Pacino is the best he 's been in years and Keener is marvelous .</td>\n",
       "      <td>0.88889</td>\n",
       "      <td>masc</td>\n",
       "    </tr>\n",
       "    <tr>\n",
       "      <th>146</th>\n",
       "      <td>So purely enjoyable that you might not even notice it 's a fairly straightforward remake of Hollywood comedies such as Father of the Bride .</td>\n",
       "      <td>0.79167</td>\n",
       "      <td>masc</td>\n",
       "    </tr>\n",
       "    <tr>\n",
       "      <th>150</th>\n",
       "      <td>Robin Williams has thankfully ditched the saccharine sentimentality of Bicentennial Man in favour of an altogether darker side .</td>\n",
       "      <td>0.63889</td>\n",
       "      <td>masc</td>\n",
       "    </tr>\n",
       "    <tr>\n",
       "      <th>153</th>\n",
       "      <td>Hoffman 's performance is authentic to the core of his being .</td>\n",
       "      <td>0.73611</td>\n",
       "      <td>masc</td>\n",
       "    </tr>\n",
       "    <tr>\n",
       "      <th>168</th>\n",
       "      <td>Too often , Son of the Bride becomes an exercise in trying to predict when a preordained `` big moment '' will occur and not `` if . ''</td>\n",
       "      <td>0.30556</td>\n",
       "      <td>masc</td>\n",
       "    </tr>\n",
       "    <tr>\n",
       "      <th>170</th>\n",
       "      <td>A solid piece of journalistic work that draws a picture of a man for whom political expedience became a deadly foreign policy .</td>\n",
       "      <td>0.54167</td>\n",
       "      <td>masc</td>\n",
       "    </tr>\n",
       "    <tr>\n",
       "      <th>181</th>\n",
       "      <td>In The Pianist , Polanski is saying what he has long wanted to say , confronting the roots of his own preoccupations and obsessions , and he allows nothing to get in the way .</td>\n",
       "      <td>0.72222</td>\n",
       "      <td>masc</td>\n",
       "    </tr>\n",
       "    <tr>\n",
       "      <th>194</th>\n",
       "      <td>With Dirty Deeds , David Caesar has stepped into the mainstream of filmmaking with an assurance worthy of international acclaim and with every cinematic tool well under his control -- driven by a natural sense for what works on screen .</td>\n",
       "      <td>0.81944</td>\n",
       "      <td>masc</td>\n",
       "    </tr>\n",
       "    <tr>\n",
       "      <th>230</th>\n",
       "      <td>What 's not to like about a movie with a ` children 's ' song that includes the line ` My stepdad 's not mean , he 's just adjusting ' ?</td>\n",
       "      <td>0.72222</td>\n",
       "      <td>masc</td>\n",
       "    </tr>\n",
       "    <tr>\n",
       "      <th>231</th>\n",
       "      <td>This English-language version ... does full honor to Miyazaki 's teeming and often unsettling landscape , and to the conflicted complexity of his characters .</td>\n",
       "      <td>0.58333</td>\n",
       "      <td>masc</td>\n",
       "    </tr>\n",
       "    <tr>\n",
       "      <th>240</th>\n",
       "      <td>In its dry and forceful way , it delivers the same message as Jiri Menzel 's Closely Watched Trains and Danis Tanovic 's No Man 's Land .</td>\n",
       "      <td>0.68056</td>\n",
       "      <td>masc</td>\n",
       "    </tr>\n",
       "    <tr>\n",
       "      <th>249</th>\n",
       "      <td>Beresford nicely mixes in as much humor as pathos to take us on his sentimental journey of the heart .</td>\n",
       "      <td>0.62500</td>\n",
       "      <td>masc</td>\n",
       "    </tr>\n",
       "    <tr>\n",
       "      <th>255</th>\n",
       "      <td>Visually fascinating ... an often intense character study about fathers and sons , loyalty and duty .</td>\n",
       "      <td>0.70833</td>\n",
       "      <td>masc</td>\n",
       "    </tr>\n",
       "  </tbody>\n",
       "</table>\n",
       "</div>"
      ],
      "text/plain": [
       "                                                                                                                                                                                                                                                            sentence  \\\n",
       "0                                                                              The Rock is destined to be the 21st Century 's new `` Conan '' and that he 's going to make a splash even greater than Arnold Schwarzenegger , Jean-Claud Van Damme or Steven Segal .   \n",
       "43                                                                                                                                                                      `` Auto Focus '' works as an unusual biopic and document of male swingers in the Playboy era   \n",
       "44                                                                                                                  If Mr. Zhang 's subject matter is , to some degree at least , quintessentially American , his approach to storytelling might be called Iranian .   \n",
       "52   ( City ) reminds us how realistically nuanced a Robert De Niro performance can be when he is not more lucratively engaged in the shameless self-caricature of ` Analyze This ' ( 1999 ) and ` Analyze That , ' promised ( or threatened ) for later this year .   \n",
       "90                                                                                                                                                                       Allen shows he can outgag any of those young whippersnappers making moving pictures today .   \n",
       "98                                                                                                                       It celebrates the group 's playful spark of nonconformity , glancing vividly back at what Hibiscus grandly called his ` angels of light . '   \n",
       "136                                                                          Writer\\/director Alexander Payne ( Election ) and his co-writer Jim Taylor brilliantly employ their quirky and fearless ability to look American angst in the eye and end up laughing .   \n",
       "141                                                                                                                                                                                                 Pacino is the best he 's been in years and Keener is marvelous .   \n",
       "146                                                                                                                     So purely enjoyable that you might not even notice it 's a fairly straightforward remake of Hollywood comedies such as Father of the Bride .   \n",
       "150                                                                                                                                 Robin Williams has thankfully ditched the saccharine sentimentality of Bicentennial Man in favour of an altogether darker side .   \n",
       "153                                                                                                                                                                                                   Hoffman 's performance is authentic to the core of his being .   \n",
       "168                                                                                                                          Too often , Son of the Bride becomes an exercise in trying to predict when a preordained `` big moment '' will occur and not `` if . ''   \n",
       "170                                                                                                                                  A solid piece of journalistic work that draws a picture of a man for whom political expedience became a deadly foreign policy .   \n",
       "181                                                                                  In The Pianist , Polanski is saying what he has long wanted to say , confronting the roots of his own preoccupations and obsessions , and he allows nothing to get in the way .   \n",
       "194                     With Dirty Deeds , David Caesar has stepped into the mainstream of filmmaking with an assurance worthy of international acclaim and with every cinematic tool well under his control -- driven by a natural sense for what works on screen .   \n",
       "230                                                                                                                         What 's not to like about a movie with a ` children 's ' song that includes the line ` My stepdad 's not mean , he 's just adjusting ' ?   \n",
       "231                                                                                                   This English-language version ... does full honor to Miyazaki 's teeming and often unsettling landscape , and to the conflicted complexity of his characters .   \n",
       "240                                                                                                                        In its dry and forceful way , it delivers the same message as Jiri Menzel 's Closely Watched Trains and Danis Tanovic 's No Man 's Land .   \n",
       "249                                                                                                                                                           Beresford nicely mixes in as much humor as pathos to take us on his sentimental journey of the heart .   \n",
       "255                                                                                                                                                            Visually fascinating ... an often intense character study about fathers and sons , loyalty and duty .   \n",
       "\n",
       "       label gender  \n",
       "0    0.69444   masc  \n",
       "43   0.65278   masc  \n",
       "44   0.52778   masc  \n",
       "52   0.63889   masc  \n",
       "90   0.76389   masc  \n",
       "98   0.72222   masc  \n",
       "136  0.75000   masc  \n",
       "141  0.88889   masc  \n",
       "146  0.79167   masc  \n",
       "150  0.63889   masc  \n",
       "153  0.73611   masc  \n",
       "168  0.30556   masc  \n",
       "170  0.54167   masc  \n",
       "181  0.72222   masc  \n",
       "194  0.81944   masc  \n",
       "230  0.72222   masc  \n",
       "231  0.58333   masc  \n",
       "240  0.68056   masc  \n",
       "249  0.62500   masc  \n",
       "255  0.70833   masc  "
      ]
     },
     "execution_count": 14,
     "metadata": {},
     "output_type": "execute_result"
    }
   ],
   "source": [
    "pd.set_option('display.max_colwidth', None)\n",
    "pd.set_option('display.max_rows', None)\n",
    "data[['sentence', 'label', 'gender']][data['gender'] == 'masc'][:20]"
   ]
  },
  {
   "cell_type": "markdown",
   "id": "b544c0c9",
   "metadata": {},
   "source": [
    "## Look at distribution of data"
   ]
  },
  {
   "cell_type": "code",
   "execution_count": 98,
   "id": "9eaa3478",
   "metadata": {},
   "outputs": [
    {
     "data": {
      "text/plain": [
       "<AxesSubplot:xlabel='gender', ylabel='label'>"
      ]
     },
     "execution_count": 98,
     "metadata": {},
     "output_type": "execute_result"
    },
    {
     "data": {
      "image/png": "[encoded data removed]",
      "text/plain": [
       "<Figure size 432x288 with 1 Axes>"
      ]
     },
     "metadata": {
      "needs_background": "light"
     },
     "output_type": "display_data"
    }
   ],
   "source": [
    "%matplotlib inline\n",
    "import seaborn as sns\n",
    "\n",
    "sns.barplot(data=data, x='gender', y='label')"
   ]
  },
  {
   "cell_type": "code",
   "execution_count": 99,
   "id": "379620ab",
   "metadata": {},
   "outputs": [
    {
     "data": {
      "text/plain": [
       "<AxesSubplot:xlabel='gender', ylabel='count'>"
      ]
     },
     "execution_count": 99,
     "metadata": {},
     "output_type": "execute_result"
    },
    {
     "data": {
      "image/png": "[encoded data removed]",
      "text/plain": [
       "<Figure size 432x288 with 1 Axes>"
      ]
     },
     "metadata": {
      "needs_background": "light"
     },
     "output_type": "display_data"
    }
   ],
   "source": [
    "sns.countplot(data=data, x='gender')"
   ]
  },
  {
   "cell_type": "code",
   "execution_count": 100,
   "id": "bd177487",
   "metadata": {},
   "outputs": [
    {
     "data": {
      "text/plain": [
       "<AxesSubplot:xlabel='gender', ylabel='count'>"
      ]
     },
     "execution_count": 100,
     "metadata": {},
     "output_type": "execute_result"
    },
    {
     "data": {
      "image/png": "[encoded data removed]",
      "text/plain": [
       "<Figure size 432x288 with 1 Axes>"
      ]
     },
     "metadata": {
      "needs_background": "light"
     },
     "output_type": "display_data"
    }
   ],
   "source": [
    "sns.countplot(data=data[data['gender']!='none'], x='gender')"
   ]
  },
  {
   "cell_type": "markdown",
   "id": "c675abea",
   "metadata": {},
   "source": [
    "## Subsample for 400 from each category (masc, femm, neut)"
   ]
  },
  {
   "cell_type": "code",
   "execution_count": 17,
   "id": "fc4a6180",
   "metadata": {},
   "outputs": [
    {
     "data": {
      "text/html": [
       "<div>\n",
       "<style scoped>\n",
       "    .dataframe tbody tr th:only-of-type {\n",
       "        vertical-align: middle;\n",
       "    }\n",
       "\n",
       "    .dataframe tbody tr th {\n",
       "        vertical-align: top;\n",
       "    }\n",
       "\n",
       "    .dataframe thead th {\n",
       "        text-align: right;\n",
       "    }\n",
       "</style>\n",
       "<table border=\"1\" class=\"dataframe\">\n",
       "  <thead>\n",
       "    <tr style=\"text-align: right;\">\n",
       "      <th></th>\n",
       "      <th>index</th>\n",
       "      <th>sentence</th>\n",
       "      <th>label</th>\n",
       "      <th>tokens</th>\n",
       "      <th>tree</th>\n",
       "      <th>split</th>\n",
       "      <th>gender</th>\n",
       "    </tr>\n",
       "  </thead>\n",
       "  <tbody>\n",
       "    <tr>\n",
       "      <th>0</th>\n",
       "      <td>8204</td>\n",
       "      <td>As pedestrian as they come .</td>\n",
       "      <td>0.18056</td>\n",
       "      <td>As|pedestrian|as|they|come|.</td>\n",
       "      <td>10|9|9|8|7|7|8|11|10|11|0</td>\n",
       "      <td>train</td>\n",
       "      <td>neut</td>\n",
       "    </tr>\n",
       "    <tr>\n",
       "      <th>1</th>\n",
       "      <td>2150</td>\n",
       "      <td>Oft-described as the antidote to American Pie-...</td>\n",
       "      <td>0.33333</td>\n",
       "      <td>Oft-described|as|the|antidote|to|American|Pie-...</td>\n",
       "      <td>55|54|53|53|52|51|50|49|49|48|47|46|43|41|41|4...</td>\n",
       "      <td>test</td>\n",
       "      <td>neut</td>\n",
       "    </tr>\n",
       "    <tr>\n",
       "      <th>2</th>\n",
       "      <td>3960</td>\n",
       "      <td>I have a confession to make : I did n't partic...</td>\n",
       "      <td>0.25000</td>\n",
       "      <td>I|have|a|confession|to|make|:|I|did|n't|partic...</td>\n",
       "      <td>44|43|42|41|40|40|45|39|36|36|37|34|34|32|31|3...</td>\n",
       "      <td>train</td>\n",
       "      <td>masc</td>\n",
       "    </tr>\n",
       "    <tr>\n",
       "      <th>3</th>\n",
       "      <td>1308</td>\n",
       "      <td>Either a fascinating study of the relationship...</td>\n",
       "      <td>0.50000</td>\n",
       "      <td>Either|a|fascinating|study|of|the|relationship...</td>\n",
       "      <td>42|38|37|37|36|34|34|33|33|40|30|30|31|28|27|2...</td>\n",
       "      <td>train</td>\n",
       "      <td>femm</td>\n",
       "    </tr>\n",
       "    <tr>\n",
       "      <th>4</th>\n",
       "      <td>2272</td>\n",
       "      <td>Manages to please its intended audience -- chi...</td>\n",
       "      <td>0.72222</td>\n",
       "      <td>Manages|to|please|its|intended|audience|--|chi...</td>\n",
       "      <td>35|33|31|29|28|28|27|26|26|25|23|22|22|21|20|1...</td>\n",
       "      <td>train</td>\n",
       "      <td>neut</td>\n",
       "    </tr>\n",
       "    <tr>\n",
       "      <th>...</th>\n",
       "      <td>...</td>\n",
       "      <td>...</td>\n",
       "      <td>...</td>\n",
       "      <td>...</td>\n",
       "      <td>...</td>\n",
       "      <td>...</td>\n",
       "      <td>...</td>\n",
       "    </tr>\n",
       "    <tr>\n",
       "      <th>1167</th>\n",
       "      <td>5807</td>\n",
       "      <td>( Janey ) forgets about her other obligations ...</td>\n",
       "      <td>0.23611</td>\n",
       "      <td>(|Janey|)|forgets|about|her|other|obligations|...</td>\n",
       "      <td>74|73|73|69|68|67|66|66|70|65|64|62|62|61|57|5...</td>\n",
       "      <td>train</td>\n",
       "      <td>femm</td>\n",
       "    </tr>\n",
       "    <tr>\n",
       "      <th>1168</th>\n",
       "      <td>7125</td>\n",
       "      <td>It 's a frightful vanity film that , no doubt ...</td>\n",
       "      <td>0.11111</td>\n",
       "      <td>It|'s|a|frightful|vanity|film|that|,|no|doubt|...</td>\n",
       "      <td>43|41|39|38|37|37|36|35|33|33|32|30|30|29|27|2...</td>\n",
       "      <td>train</td>\n",
       "      <td>neut</td>\n",
       "    </tr>\n",
       "    <tr>\n",
       "      <th>1169</th>\n",
       "      <td>143</td>\n",
       "      <td>It 's a hoot and a half , and a great way for ...</td>\n",
       "      <td>0.79167</td>\n",
       "      <td>It|'s|a|hoot|and|a|half|,|and|a|great|way|for|...</td>\n",
       "      <td>67|64|58|58|59|57|57|61|62|55|54|54|53|52|51|5...</td>\n",
       "      <td>test</td>\n",
       "      <td>masc</td>\n",
       "    </tr>\n",
       "    <tr>\n",
       "      <th>1170</th>\n",
       "      <td>4452</td>\n",
       "      <td>Eventually , they will have a showdown , but ,...</td>\n",
       "      <td>0.18056</td>\n",
       "      <td>Eventually|,|they|will|have|a|showdown|,|but|,...</td>\n",
       "      <td>61|60|52|51|50|49|49|53|54|55|47|47|46|44|44|4...</td>\n",
       "      <td>train</td>\n",
       "      <td>neut</td>\n",
       "    </tr>\n",
       "    <tr>\n",
       "      <th>1171</th>\n",
       "      <td>2812</td>\n",
       "      <td>Instead , she sees it as a chance to revitaliz...</td>\n",
       "      <td>0.68056</td>\n",
       "      <td>Instead|,|she|sees|it|as|a|chance|to|revitaliz...</td>\n",
       "      <td>41|40|39|36|36|35|34|33|32|31|30|28|28|27|26|2...</td>\n",
       "      <td>train</td>\n",
       "      <td>femm</td>\n",
       "    </tr>\n",
       "  </tbody>\n",
       "</table>\n",
       "<p>1172 rows × 7 columns</p>\n",
       "</div>"
      ],
      "text/plain": [
       "      index                                           sentence    label  \\\n",
       "0      8204                       As pedestrian as they come .  0.18056   \n",
       "1      2150  Oft-described as the antidote to American Pie-...  0.33333   \n",
       "2      3960  I have a confession to make : I did n't partic...  0.25000   \n",
       "3      1308  Either a fascinating study of the relationship...  0.50000   \n",
       "4      2272  Manages to please its intended audience -- chi...  0.72222   \n",
       "...     ...                                                ...      ...   \n",
       "1167   5807  ( Janey ) forgets about her other obligations ...  0.23611   \n",
       "1168   7125  It 's a frightful vanity film that , no doubt ...  0.11111   \n",
       "1169    143  It 's a hoot and a half , and a great way for ...  0.79167   \n",
       "1170   4452  Eventually , they will have a showdown , but ,...  0.18056   \n",
       "1171   2812  Instead , she sees it as a chance to revitaliz...  0.68056   \n",
       "\n",
       "                                                 tokens  \\\n",
       "0                          As|pedestrian|as|they|come|.   \n",
       "1     Oft-described|as|the|antidote|to|American|Pie-...   \n",
       "2     I|have|a|confession|to|make|:|I|did|n't|partic...   \n",
       "3     Either|a|fascinating|study|of|the|relationship...   \n",
       "4     Manages|to|please|its|intended|audience|--|chi...   \n",
       "...                                                 ...   \n",
       "1167  (|Janey|)|forgets|about|her|other|obligations|...   \n",
       "1168  It|'s|a|frightful|vanity|film|that|,|no|doubt|...   \n",
       "1169  It|'s|a|hoot|and|a|half|,|and|a|great|way|for|...   \n",
       "1170  Eventually|,|they|will|have|a|showdown|,|but|,...   \n",
       "1171  Instead|,|she|sees|it|as|a|chance|to|revitaliz...   \n",
       "\n",
       "                                                   tree  split gender  \n",
       "0                             10|9|9|8|7|7|8|11|10|11|0  train   neut  \n",
       "1     55|54|53|53|52|51|50|49|49|48|47|46|43|41|41|4...   test   neut  \n",
       "2     44|43|42|41|40|40|45|39|36|36|37|34|34|32|31|3...  train   masc  \n",
       "3     42|38|37|37|36|34|34|33|33|40|30|30|31|28|27|2...  train   femm  \n",
       "4     35|33|31|29|28|28|27|26|26|25|23|22|22|21|20|1...  train   neut  \n",
       "...                                                 ...    ...    ...  \n",
       "1167  74|73|73|69|68|67|66|66|70|65|64|62|62|61|57|5...  train   femm  \n",
       "1168  43|41|39|38|37|37|36|35|33|33|32|30|30|29|27|2...  train   neut  \n",
       "1169  67|64|58|58|59|57|57|61|62|55|54|54|53|52|51|5...   test   masc  \n",
       "1170  61|60|52|51|50|49|49|53|54|55|47|47|46|44|44|4...  train   neut  \n",
       "1171  41|40|39|36|36|35|34|33|32|31|30|28|28|27|26|2...  train   femm  \n",
       "\n",
       "[1172 rows x 7 columns]"
      ]
     },
     "execution_count": 17,
     "metadata": {},
     "output_type": "execute_result"
    }
   ],
   "source": [
    "subbed_data = []\n",
    "for genderword in ['masc', 'femm', 'neut']:\n",
    "    local_data = data[data['gender'] == genderword]\n",
    "    if local_data.shape[0] < 400:\n",
    "        subbed_data.append(local_data)\n",
    "    else:\n",
    "        subbed_data.append(local_data.sample(n=400, replace=False))\n",
    "        \n",
    "# shuffle data using '.sample(frac=1)'\n",
    "subsample_data = pd.concat(subbed_data).sample(frac=1).reset_index()\n",
    "\n",
    "\n",
    "pd.reset_option('^display.', silent=True)\n",
    "\n",
    "subsample_data"
   ]
  },
  {
   "cell_type": "markdown",
   "id": "68dd053c",
   "metadata": {},
   "source": [
    "## Sample 99 sentences for each annotator as test run"
   ]
  },
  {
   "cell_type": "code",
   "execution_count": 22,
   "id": "c6a11844",
   "metadata": {},
   "outputs": [],
   "source": [
    "idx = 0\n",
    "c = 99  # count\n",
    "for annotator in ['katy', 'fatma', 'anna', 'nathan', 'aashka']:\n",
    "    subset = subsample_data.loc[idx:idx+c, ['index', 'sentence', 'label', 'gender']]\n",
    "    subset.to_csv(f\"sentiment-bias-annotations_{annotator}_{idx}-{idx+c}.csv\", float_format='{:,.2f}'.format, index_label='annotation_index')\n",
    "    idx += int(c/3)"
   ]
  },
  {
   "cell_type": "code",
   "execution_count": null,
   "id": "ae328442",
   "metadata": {},
   "outputs": [],
   "source": []
  }
 ],
 "metadata": {
  "kernelspec": {
   "display_name": "Python 3 (ipykernel)",
   "language": "python",
   "name": "python3"
  },
  "language_info": {
   "codemirror_mode": {
    "name": "ipython",
    "version": 3
   },
   "file_extension": ".py",
   "mimetype": "text/x-python",
   "name": "python",
   "nbconvert_exporter": "python",
   "pygments_lexer": "ipython3",
   "version": "3.7.13"
  }
 },
 "nbformat": 4,
 "nbformat_minor": 5
}
